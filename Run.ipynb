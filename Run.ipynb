{
 "cells": [
  {
   "cell_type": "code",
   "execution_count": 1,
   "id": "e1f7df4f",
   "metadata": {},
   "outputs": [],
   "source": [
    "import tester"
   ]
  },
  {
   "cell_type": "code",
   "execution_count": 2,
   "id": "ee93e355",
   "metadata": {
    "scrolled": true
   },
   "outputs": [
    {
     "name": "stdout",
     "output_type": "stream",
     "text": [
      "\n",
      "######### INITIAL RESULTS #########\n",
      "passed_math_util: True, passed_add_layer: True, passed_init_weights: True\n",
      "[5 0 4 ... 5 6 8]\n",
      "[7 2 1 ... 4 5 6]\n",
      "######### TRAINING RESULTS - Model error #########\n",
      "Train: 0.0284, Test: 0.0341\n",
      "test_saved_weights: SUCCESS!!!\n"
     ]
    }
   ],
   "source": [
    "tester.main()"
   ]
  }
 ],
 "metadata": {
  "kernelspec": {
   "display_name": "Python 3 (ipykernel)",
   "language": "python",
   "name": "python3"
  },
  "language_info": {
   "codemirror_mode": {
    "name": "ipython",
    "version": 3
   },
   "file_extension": ".py",
   "mimetype": "text/x-python",
   "name": "python",
   "nbconvert_exporter": "python",
   "pygments_lexer": "ipython3",
   "version": "3.9.7"
  }
 },
 "nbformat": 4,
 "nbformat_minor": 5
}
